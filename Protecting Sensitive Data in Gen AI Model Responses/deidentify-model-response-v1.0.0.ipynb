{
 "cells": [
  {
   "cell_type": "code",
   "execution_count": null,
   "id": "c786c559-55b7-4378-a109-f9895cffd086",
   "metadata": {
    "tags": []
   },
   "outputs": [],
   "source": [
    "# Copyright 2023 Google LLC\n",
    "#\n",
    "# Licensed under the Apache License, Version 2.0 (the \"License\");\n",
    "# you may not use this file except in compliance with the License.\n",
    "# You may obtain a copy of the License at\n",
    "#\n",
    "#     https://www.apache.org/licenses/LICENSE-2.0\n",
    "#\n",
    "# Unless required by applicable law or agreed to in writing, software\n",
    "# distributed under the License is distributed on an \"AS IS\" BASIS,\n",
    "# WITHOUT WARRANTIES OR CONDITIONS OF ANY KIND, either express or implied.\n",
    "# See the License for the specific language governing permissions and\n",
    "# limitations under the License."
   ]
  },
  {
   "cell_type": "markdown",
   "id": "79cf3796-4504-44e2-893b-457d4f6028ee",
   "metadata": {},
   "source": [
    "# Protecting Sensitive Data in Gen AI model responses"
   ]
  },
  {
   "cell_type": "markdown",
   "id": "dffe023b-380e-4b0d-8a24-bdf6fce600c0",
   "metadata": {},
   "source": [
    "## Overview\n",
    "\n",
    "[Sensitive Data Protection](https://cloud.google.com/security/products/sensitive-data-protection) is a fully managed service designed to discover, classify, and protect your sensitive data wherever it resides. It uses a variety of methods to identify sensitive data including regular expressions, dictionaries, and contextual elements. Once sensitive data is identified, Sensitive Data Protection (Cloud Data Loss Prevention) can take several actions to either classify, mask, encrypt, or even delete it.\n",
    "\n",
    "Sensitive Data Protection can be accessed via Google Cloud console and used to scan data within Cloud Storage, BigQuery and other Google Cloud services. The following notebook demonstrates using the [Python Client for Cloud Data Loss Prevention](https://cloud.google.com/python/docs/reference/dlp/latest) to incorporate Sensitive Data Protection capabilities directly with Generative AI enabled applications. \n",
    "\n",
    "With this Python client, you define custom functions that can identify and take corrective action on sensitive data within Large Language Models (LLM) responses in real time. Throughout this notebook, you generate example text with sensitive data and run the results through custom Python functions that redact the sensitive data from Gemini 2.0 Flash model responses, so you can see this functionality in action on example data. \n",
    "\n",
    "After learning how to work with the Python client, you can adapt these same Python functions for Gen AI applications in your organization to protect sensitive data across your workflows.  \n",
    "\n",
    "Notebook credit: [Jim Miller, Google](https://github.com/JimMiller-0)"
   ]
  },
  {
   "cell_type": "markdown",
   "id": "bc56a5ad-528e-48ba-a53e-d38ed1ae3a06",
   "metadata": {},
   "source": [
    "### Objectives\n",
    "\n",
    "In this lab, you learn how to use Sensitive Data Protection through the Python Client for Cloud Data Loss Prevention and explore how to identify and redact sensitive data within responses from the Gemini 2.0 Flash model.\n",
    "\n",
    "The steps performed include:\n",
    "\n",
    "- Installing the Python packages for Vertex AI and Cloud Data Loss Prevention (DLP) API\n",
    "- Generating examples with sensitive data using Gemini 2.0 Flash model\n",
    "- Defining and running Python functions to redact different types of sensitive data in Gemini 2.0 Flash model responses using the DLP API"
   ]
  },
  {
   "cell_type": "markdown",
   "id": "f65a181e-0d1f-4314-9a4e-f177ebb51326",
   "metadata": {},
   "source": [
    "### Costs\n",
    "\n",
    "This tutorial uses billable components of Google Cloud:\n",
    "\n",
    "- Vertex AI\n",
    "- Sensitive Data Protection (Cloud Data Loss Prevention)\n",
    "\n",
    "Learn about [Vertex AI pricing](https://cloud.google.com/vertex-ai/pricing) and [Sensitive Data Protection](https://cloud.google.com/dlp/pricing). Use the [Pricing Calculator](https://cloud.google.com/products/calculator/) to generate a cost estimate based on your projected usage.\n"
   ]
  },
  {
   "cell_type": "markdown",
   "id": "14eac4fa-8017-4f16-8a2b-2cd0a5d8f1ad",
   "metadata": {},
   "source": [
    "## Getting started with this notebook\n",
    "\n",
    "Below are few steps to get your environment ready including installing a few key Python packages and setting your environmental variables (project ID and region). \n",
    "\n",
    "Be sure to run each cell in consecutive order using the `Run` button (play arrow) at the top of this notebook. "
   ]
  },
  {
   "cell_type": "markdown",
   "id": "09dbab5b-e2f1-40de-a13a-8a6dec8713a7",
   "metadata": {},
   "source": [
    "### Install necessary packages "
   ]
  },
  {
   "cell_type": "code",
   "execution_count": null,
   "id": "cf41e1a4-6eae-44dd-b4de-d628cade341e",
   "metadata": {
    "tags": []
   },
   "outputs": [],
   "source": [
    "# Install Vertex AI\n",
    "!pip install google-cloud-aiplatform --upgrade --user\n",
    "\n",
    "# Install Cloud Data Loss Prevention\n",
    "! pip install google-cloud-dlp --upgrade --user"
   ]
  },
  {
   "cell_type": "markdown",
   "id": "74674658-3cf1-4cda-9048-d52a4a8dc171",
   "metadata": {},
   "source": [
    "### Restart current runtime\n",
    "\n",
    "To use the newly installed packages in this Jupyter runtime, you must restart the runtime. You can do this by running the cell below, which will restart the current kernel."
   ]
  },
  {
   "cell_type": "code",
   "execution_count": null,
   "id": "f48dd97c-5ead-41e5-a006-0f8102171f03",
   "metadata": {
    "tags": []
   },
   "outputs": [],
   "source": [
    "# Restart kernel after installs so that your environment can access the new packages\n",
    "import IPython\n",
    "\n",
    "app = IPython.Application.instance()\n",
    "app.kernel.do_shutdown(True)"
   ]
  },
  {
   "cell_type": "markdown",
   "id": "57fd18cb-dd00-487a-a908-dc5327c7ada5",
   "metadata": {},
   "source": [
    "<div class=\"alert alert-block alert-warning\">\n",
    "<b><p>⚠️ The kernel is going to restart. Please wait until it is finished before continuing to the next step. ⚠️</p> When prompted, click OK to continue. </b>\n",
    "</div>"
   ]
  },
  {
   "cell_type": "markdown",
   "id": "64e74c8c-8267-43f8-bdc1-e94b32ef81cd",
   "metadata": {},
   "source": [
    "### Set your project ID and region"
   ]
  },
  {
   "cell_type": "code",
   "execution_count": null,
   "id": "6cc70244-486b-4104-b9ca-74965fbcfff0",
   "metadata": {
    "tags": []
   },
   "outputs": [],
   "source": [
    "# Get the Project ID\n",
    "PROJECT_ID = !gcloud config get project  # Example: qwiklabs-gcp-04-b75c09c1eb74\n",
    "PROJECT_ID = PROJECT_ID[0]\n",
    "print(PROJECT_ID)  # Print the Project ID\n",
    "\n",
    "# Get the default region\n",
    "LOCATION = !gcloud compute project-info describe --format=\"value(commonInstanceMetadata.items[google-compute-default-region])\"\n",
    "print(LOCATION[0])  # Print the region (e.g., us-central1)"
   ]
  },
  {
   "cell_type": "markdown",
   "id": "a7fb3bdb-0cf0-4816-a4dd-2262e39a0c72",
   "metadata": {
    "tags": []
   },
   "source": [
    "## Generate simple example text with personally identifiable information (full name) using Gemini 2.0 Flash model\n",
    "\n",
    "The Gemini 2.0 Flash (`gemini-2.0-flash-001`) model is designed to handle natural language tasks, multi-turn text and code chat, and code generation. \n",
    "\n",
    "In this section, you use the the model to generate examples of text with personally identifiable information (PII) and then define a custom Python function to redact this sensitive data from the model responses.   "
   ]
  },
  {
   "cell_type": "code",
   "execution_count": null,
   "id": "771ffbb4-a600-468b-a143-59a7d88e5db3",
   "metadata": {
    "tags": []
   },
   "outputs": [],
   "source": [
    "# Import model for text generation\n",
    "from vertexai.generative_models import GenerativeModel\n",
    "model = GenerativeModel(\"gemini-2.0-flash-001\")"
   ]
  },
  {
   "cell_type": "code",
   "execution_count": null,
   "id": "cc3f5246-8759-4f0c-9ab6-420a16174dad",
   "metadata": {
    "tags": []
   },
   "outputs": [],
   "source": [
    "# Write a prompt that generates a simple example of personally identifiable information (full name)\n",
    "prompt = f\"\"\"Who is the CEO of Google?\n",
    "  \"\"\"\n",
    "\n",
    "# Run model with prompt\n",
    "response_name = model.generate_content(prompt)\n",
    "\n",
    "# Print response without deidentification (full name is visible)\n",
    "response_name"
   ]
  },
  {
   "cell_type": "markdown",
   "id": "1fc318cd-79fd-42c8-91b9-0e8154abf027",
   "metadata": {
    "tags": []
   },
   "source": [
    "## Define and run a Python function to deidentify Gemini 2.0 Flash model responses using built-in global infotypes\n",
    "\n",
    "Sensitive Data Protection uses information types, or infoTypes, to define what it scans for. An infoType is a type of sensitive data, such as a name, telephone number, or identification number. \n",
    "\n",
    "In the cell below, you define a Python function that identifies and redacts that specific infoTypes that you provide as input, based on the list of built-in global infoTypes that are available in Sensitive Data Protection. Global infoTypes include general and globally applicable infoTypes such as names, date of birth, and credit card numbers. \n",
    "\n",
    "When you apply the function to model responses, you specify a few key built-in infoTypes to redact, such as `PERSON_NAME`, `DATE_OF_BIRTH`, and `CREDIT_CARD_NUMBER`. You can review the documentation to see the full list of [built-in infoTypes](https://cloud.google.com/sensitive-data-protection/docs/concepts-infotypes).\n",
    "\n",
    "Run the code block below without modifications."
   ]
  },
  {
   "cell_type": "code",
   "execution_count": null,
   "id": "dc51c9f2-f41d-4146-bb27-fe4a56fdefd9",
   "metadata": {
    "tags": []
   },
   "outputs": [],
   "source": [
    "# Define function to inspect and deidentify output with Sensitive Data Protection\n",
    "import google.cloud.dlp  \n",
    "from typing import List \n",
    "\n",
    "def deidentify_with_replace_infotype(\n",
    "    project: str, item: str, info_types: List[str]\n",
    ") -> None:\n",
    "    \"\"\"Uses the Data Loss Prevention API to deidentify sensitive data in a\n",
    "    string by replacing it with the info type.\n",
    "    Args:\n",
    "        project: The Google Cloud project id to use as a parent resource.\n",
    "        item: The string to deidentify (will be treated as text).\n",
    "        info_types: A list of strings representing info types to look for.\n",
    "            A full list of info type categories can be fetched from the API.\n",
    "    Returns:\n",
    "        None; the response from the API is printed to the terminal.\n",
    "    \"\"\"\n",
    "\n",
    "    # Instantiate a client\n",
    "    dlp = google.cloud.dlp_v2.DlpServiceClient()\n",
    "\n",
    "    # Convert the project id into a full resource id.\n",
    "    parent = f\"projects/{PROJECT_ID}\"\n",
    "\n",
    "    # Construct inspect configuration dictionary\n",
    "    inspect_config = {\"info_types\": [{\"name\": info_type} for info_type in info_types]}\n",
    "\n",
    "    # Construct deidentify configuration dictionary\n",
    "    deidentify_config = {\n",
    "        \"info_type_transformations\": {\n",
    "            \"transformations\": [\n",
    "                {\"primitive_transformation\": {\"replace_with_info_type_config\": {}}}\n",
    "            ]\n",
    "        }\n",
    "    }\n",
    "\n",
    "    # Call the API\n",
    "    response = dlp.deidentify_content(\n",
    "        request={\n",
    "            \"parent\": parent,\n",
    "            \"deidentify_config\": deidentify_config,\n",
    "            \"inspect_config\": inspect_config,\n",
    "            \"item\": {\"value\": item},\n",
    "        }\n",
    "    )\n",
    "\n",
    "    # Print results\n",
    "    print(response.item.value)"
   ]
  },
  {
   "cell_type": "code",
   "execution_count": null,
   "id": "1fd20794-998f-4109-a756-2a6f1c23a3c3",
   "metadata": {
    "tags": []
   },
   "outputs": [],
   "source": [
    "# Deidentify model response that includes a person's name (full name is redacted)\n",
    "deidentify_with_replace_infotype(PROJECT_ID, response_name.text, [\"PERSON_NAME\"])"
   ]
  },
  {
   "cell_type": "markdown",
   "id": "98b648ec-f633-42d9-ac7b-50b26d849255",
   "metadata": {},
   "source": [
    "## Generate and de-identify example text with more personally identifiable information (date of birth) using Gemini 2.0 Flash model\n",
    "\n",
    "In this example, you generate an example with more personally identifiable information in the form of a medical visit log, which can include other sensitive data such date of birth.\n",
    "\n",
    "When you run the de-identification function, you provide `PERSON_NAME` and `DATE_OF_BIRTH` as the infoTypes to redact. "
   ]
  },
  {
   "cell_type": "code",
   "execution_count": null,
   "id": "9e6a21a2-2311-4b55-a6bb-5dfd1ad56d28",
   "metadata": {
    "tags": []
   },
   "outputs": [],
   "source": [
    "# Write a prompt that generates an example with more personally identifiable information (such as date of birth in a medical visit log)\n",
    "prompt = f\"\"\"Generate an example medical after-visit log with faux personally identifiable information including name and date of birth\n",
    "  \"\"\"\n",
    "\n",
    "# Run model with prompt\n",
    "response_visitlog = model.generate_content(prompt)\n",
    "\n",
    "# Print response without deidentification (full names and date of birth are visible)\n",
    "response_visitlog"
   ]
  },
  {
   "cell_type": "code",
   "execution_count": null,
   "id": "324f786e-1bbd-4302-ab55-42d33a6e57a0",
   "metadata": {
    "tags": []
   },
   "outputs": [],
   "source": [
    "# Deidentify model response that includes an example medical visit log (full names and date of birth are redacted)\n",
    "deidentify_with_replace_infotype(PROJECT_ID, response_visitlog.text, [\"PERSON_NAME\",\"DATE_OF_BIRTH\"])"
   ]
  },
  {
   "cell_type": "markdown",
   "id": "8f2e8c80-08f8-4580-b01d-6f05257c44ce",
   "metadata": {},
   "source": [
    "## Generate example text with credit card information using Gemini 2.0 Flash model\n",
    "\n",
    "In the previous examples, you generated example text with personally identifiable information such as full name and date of birth.\n",
    "\n",
    "In this example, you start with generating example text with credit card information with the prompt provided below. Then, you apply what you have learned in the previous examples to run the function to redact credit card information. "
   ]
  },
  {
   "cell_type": "code",
   "execution_count": null,
   "id": "f0e340bb-357d-4531-8daa-a90b0e9dca98",
   "metadata": {
    "tags": []
   },
   "outputs": [],
   "source": [
    "# Write a prompt that generates an example with a credit card number\n",
    "prompt = f\"\"\"Is 4111 1111 1111 1111 an example of a credit card number?\n",
    "  \"\"\"\n",
    "\n",
    "# Run model with prompt\n",
    "response_creditcard = model.generate_content(prompt)\n",
    "\n",
    "# Print response without deidentification (credit card number is visible)\n",
    "response_creditcard"
   ]
  },
  {
   "cell_type": "markdown",
   "id": "32a49c59-c4f5-46f0-89fa-4c0a30caea3f",
   "metadata": {},
   "source": [
    "## Test your skills using the built-in global infoType for credit card number\n",
    "\n",
    "Now it's your turn to call the function `deidentify_with_replace_infotype` with the appropriate inputs to redact credit card numbers from model responses.\n",
    "\n",
    "__Hint__: you can review the [global infoTypes](https://cloud.google.com/sensitive-data-protection/docs/infotypes-reference#global) in the documentation to identify the appropriate infoType for credit card numbers.\n",
    "\n",
    "For the full solution, return to the lab instructions and expand the __Hint__ button. "
   ]
  },
  {
   "cell_type": "code",
   "execution_count": null,
   "id": "ebfb5890-2e41-4462-9a65-f204fe42c06b",
   "metadata": {
    "tags": []
   },
   "outputs": [],
   "source": [
    "# Deidentify model response that includes an example credit card number (credit card number is redacted)\n",
    "\n",
    "# ADD YOUR CODE BELOW\n",
    "deidentify_with_replace_infotype(PROJECT_ID, response_creditcard.text, [\"CREDIT_CARD_NUMBER\"])"
   ]
  },
  {
   "cell_type": "markdown",
   "id": "2e5239cb-d8e1-4c2f-852c-a0ce3556c2ec",
   "metadata": {},
   "source": [
    "## Redefine the Python function to block Gemini 2.0 Flash model responses based on specific infotypes for documents\n",
    "\n",
    "In addition to its ability to scan and classify information contained within documents, Sensitive Data Protection can classify documents into multiple enterprise-specific categories. When combined with sensitive data inspection, this classification can be useful for document risk assessment, policy enforcement, and similar use cases.\n",
    "\n",
    "In this section, you redefine the the original function to take advantage of this classification functionality and use it to block output for two specific [document infoTypes](https://cloud.google.com/sensitive-data-protection/docs/infotypes-reference#documents): source code and patents.\n",
    "\n",
    "In the code block below for the function, notice the new code lines after `# Add conditional return for document infoTypes for source code and patent`. \n",
    "\n",
    "Run the code block below without modifications."
   ]
  },
  {
   "cell_type": "code",
   "execution_count": null,
   "id": "da6b40ac-c8e8-4dbf-8dac-3ecfacaedb91",
   "metadata": {
    "tags": []
   },
   "outputs": [],
   "source": [
    "# Redefine original function to inspect and deidentify output with Sensitive Data Protection\n",
    "import google.cloud.dlp  \n",
    "from typing import List \n",
    "\n",
    "def deidentify_with_replace_infotype(\n",
    "    project: str, item: str, info_types: List[str]\n",
    ") -> None:\n",
    "    \"\"\"Uses the Data Loss Prevention API to deidentify sensitive data in a\n",
    "    string by replacing it with the info type.\n",
    "    Args:\n",
    "        project: The Google Cloud project id to use as a parent resource.\n",
    "        item: The string to deidentify (will be treated as text).\n",
    "        info_types: A list of strings representing info types to look for.\n",
    "            A full list of info type categories can be fetched from the API.\n",
    "    Returns:\n",
    "        None; the response from the API is printed to the terminal.\n",
    "    \"\"\"\n",
    "\n",
    "    # Instantiate a client\n",
    "    dlp = google.cloud.dlp_v2.DlpServiceClient()\n",
    "\n",
    "    # Convert the project id into a full resource id.\n",
    "    parent = f\"projects/{PROJECT_ID}\"\n",
    "\n",
    "    # Construct inspect configuration dictionary\n",
    "    inspect_config = {\"info_types\": [{\"name\": info_type} for info_type in info_types]}\n",
    "\n",
    "    # Construct deidentify configuration dictionary\n",
    "    deidentify_config = {\n",
    "        \"info_type_transformations\": {\n",
    "            \"transformations\": [\n",
    "                {\"primitive_transformation\": {\"replace_with_info_type_config\": {}}}\n",
    "            ]\n",
    "        }\n",
    "    }\n",
    "\n",
    "    # Call the API for deidentify\n",
    "    response = dlp.deidentify_content(\n",
    "        request={\n",
    "            \"parent\": parent,\n",
    "            \"deidentify_config\": deidentify_config,\n",
    "            \"inspect_config\": inspect_config,\n",
    "            \"item\": {\"value\": item},\n",
    "        }\n",
    "    )\n",
    "\n",
    "    return_payload = response.item.value\n",
    "    \n",
    "    # Add conditional return to block responses containing document infoTypes for source code and patent\n",
    "    info_types = [\"DOCUMENT_TYPE/R&D/SOURCE_CODE\",\"DOCUMENT_TYPE/R&D/PATENT\"]\n",
    "    inspect_config = {\"info_types\": [{\"name\": info_type} for info_type in info_types]}\n",
    "\n",
    "    response = dlp.inspect_content(\n",
    "        request={\n",
    "            \"parent\": parent,\n",
    "            \"inspect_config\": inspect_config,\n",
    "            \"item\": {\"value\": item},\n",
    "        }\n",
    "    )\n",
    "\n",
    "    if response.result.findings:\n",
    "        for finding in response.result.findings:\n",
    "            if finding.info_type.name == \"DOCUMENT_TYPE/R&D/SOURCE_CODE\":\n",
    "                return_payload = '[Blocked due to category: Source Code]'\n",
    "            elif finding.info_type.name == \"DOCUMENT_TYPE/R&D/PATENT\":\n",
    "                return_payload = '[Blocked due to category: Patent Related]'\n",
    "                \n",
    "    # Print results\n",
    "    print(return_payload)"
   ]
  },
  {
   "cell_type": "markdown",
   "id": "1fcc9d0c-3fcb-48a5-9964-1947dadb10b9",
   "metadata": {},
   "source": [
    "## Generate an example with source code using Gemini 2.0 Flash model and block results\n",
    "\n",
    "In the previous examples, you generated example text with personally identifiable information.\n",
    "\n",
    "In this example, you generate examples with document infoTypes including source code and patent information. Then, you apply what you have learned in the previous examples to run the function to block responses based on these document infoTypes. "
   ]
  },
  {
   "cell_type": "code",
   "execution_count": null,
   "id": "5386700d-05ac-4c41-a554-a97e0758d333",
   "metadata": {
    "tags": []
   },
   "outputs": [],
   "source": [
    "# Create prompt that generates an example of Java code\n",
    "prompt = f\"\"\"Show me an example of Java code\n",
    "  \"\"\"\n",
    "\n",
    "# Run model with prompt\n",
    "response_sourcecode = model.generate_content(prompt)\n",
    "\n",
    "# Print response without blocking it (code is visible)\n",
    "response_sourcecode"
   ]
  },
  {
   "cell_type": "code",
   "execution_count": null,
   "id": "b0f765ef-e0c8-46f8-9071-b450650e209b",
   "metadata": {
    "tags": []
   },
   "outputs": [],
   "source": [
    "# Block model response that include source code (response is not available)\n",
    "# Notice that the infoType that you request is a different infoType\n",
    "# Results are still blocked because the model response is identified contain code\n",
    "deidentify_with_replace_infotype(PROJECT_ID, response_sourcecode.text, [\"EMAIL_ADDRESS\"])"
   ]
  },
  {
   "cell_type": "markdown",
   "id": "1dd83f0e-2c64-45a9-98e8-7d974eabe953",
   "metadata": {},
   "source": [
    "## Test your skills using the built-in document infoType for patents\n",
    "\n",
    "Now it's your turn to call the function `deidentify_with_replace_infotype` with the appropriate inputs to block patent information in model responses.\n",
    "\n",
    "__Hint__: review the previous two cells for generating an example with source code and calling the function, and then modify both to block the model response because it contains patent information.\n",
    "\n",
    "For the full solution, return to the lab instructions and expand the __Hint__ button. "
   ]
  },
  {
   "cell_type": "code",
   "execution_count": null,
   "id": "cb204161-0c3a-417c-b5f7-86b3b3e6b677",
   "metadata": {
    "tags": []
   },
   "outputs": [],
   "source": [
    "# Create prompt that generates example patent\n",
    "# ADD YOUR CODE BELOW\n",
    "prompt = f\"\"\"Show me an example patent\n",
    "\n",
    "\"\"\"\n",
    "\n",
    "# Run model with prompt\n",
    "# Name the output as response_patent\n",
    "# ADD YOUR CODE BELOW\n",
    "response_patent = model.generate_content(prompt)\n",
    "\n",
    "# Print response without blocking it (patent information provided)\n",
    "# ADD YOUR CODE BELOW\n",
    "response_patent\n"
   ]
  },
  {
   "cell_type": "code",
   "execution_count": null,
   "id": "5dba6d7a-ad2b-495d-a05f-53ee63d07832",
   "metadata": {
    "tags": []
   },
   "outputs": [],
   "source": [
    "# Block model response that includes patent information (patent information not provided)\n",
    "\n",
    "# ADD YOUR CODE BELOW\n",
    "deidentify_with_replace_infotype(PROJECT_ID, response_patent.text, [\"EMAIL_ADDRESS\"])"
   ]
  }
 ],
 "metadata": {
  "environment": {
   "kernel": "conda-base-py",
   "name": "workbench-notebooks.m129",
   "type": "gcloud",
   "uri": "us-docker.pkg.dev/deeplearning-platform-release/gcr.io/workbench-notebooks:m129"
  },
  "kernelspec": {
   "display_name": "Python 3 (ipykernel) (Local) (Local)",
   "language": "python",
   "name": "conda-base-py"
  },
  "language_info": {
   "codemirror_mode": {
    "name": "ipython",
    "version": 3
   },
   "file_extension": ".py",
   "mimetype": "text/x-python",
   "name": "python",
   "nbconvert_exporter": "python",
   "pygments_lexer": "ipython3",
   "version": "3.10.16"
  }
 },
 "nbformat": 4,
 "nbformat_minor": 5
}
